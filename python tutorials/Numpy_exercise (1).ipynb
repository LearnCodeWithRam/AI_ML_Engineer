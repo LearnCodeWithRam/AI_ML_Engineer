{
  "nbformat": 4,
  "nbformat_minor": 0,
  "metadata": {
    "colab": {
      "provenance": []
    },
    "kernelspec": {
      "name": "python3",
      "display_name": "Python 3"
    },
    "language_info": {
      "name": "python"
    }
  },
  "cells": [
    {
      "cell_type": "code",
      "source": [
        "import numpy as np\n",
        "arr = np.array(42)\n",
        "print(arr)"
      ],
      "metadata": {
        "colab": {
          "base_uri": "https://localhost:8080/"
        },
        "id": "H5ewCQ5aAAMs",
        "outputId": "02623df2-e2e3-402b-c14f-49187ab64db2"
      },
      "execution_count": null,
      "outputs": [
        {
          "output_type": "stream",
          "name": "stdout",
          "text": [
            "42\n"
          ]
        }
      ]
    },
    {
      "cell_type": "code",
      "source": [
        "arr = np.array([1, 2, 3, 4, 5])\n",
        "\n",
        "print(arr)"
      ],
      "metadata": {
        "colab": {
          "base_uri": "https://localhost:8080/"
        },
        "id": "FZPlb_vQABFa",
        "outputId": "f541feb9-2a02-47b6-dae3-6689916a419f"
      },
      "execution_count": null,
      "outputs": [
        {
          "output_type": "stream",
          "name": "stdout",
          "text": [
            "[1 2 3 4 5]\n"
          ]
        }
      ]
    },
    {
      "cell_type": "code",
      "source": [
        "arr = np.array([[1, 2, 3], [4, 5, 6]])\n",
        "\n",
        "print(arr)"
      ],
      "metadata": {
        "colab": {
          "base_uri": "https://localhost:8080/"
        },
        "id": "6hVFLz3CAO27",
        "outputId": "372dd62a-1a5e-4473-c4c4-41d50e270f72"
      },
      "execution_count": null,
      "outputs": [
        {
          "output_type": "stream",
          "name": "stdout",
          "text": [
            "[[1 2 3]\n",
            " [4 5 6]]\n"
          ]
        }
      ]
    },
    {
      "cell_type": "code",
      "source": [
        "print(np.__version__)"
      ],
      "metadata": {
        "colab": {
          "base_uri": "https://localhost:8080/"
        },
        "id": "nFf_2keA8a1L",
        "outputId": "c3655124-b7ee-4b34-a708-d271a20d12c2"
      },
      "execution_count": null,
      "outputs": [
        {
          "output_type": "stream",
          "name": "stdout",
          "text": [
            "1.26.4\n"
          ]
        }
      ]
    },
    {
      "cell_type": "code",
      "source": [
        "c = np.array([[[1,2],[3,4]],[[5,6],[7,8]]])\n",
        "print(c)"
      ],
      "metadata": {
        "colab": {
          "base_uri": "https://localhost:8080/"
        },
        "id": "lZVcHAuRF-eH",
        "outputId": "e13686d7-8b25-4730-9351-f40c87d95bf2"
      },
      "execution_count": null,
      "outputs": [
        {
          "output_type": "stream",
          "name": "stdout",
          "text": [
            "[[[1 2]\n",
            "  [3 4]]\n",
            "\n",
            " [[5 6]\n",
            "  [7 8]]]\n"
          ]
        }
      ]
    },
    {
      "cell_type": "code",
      "source": [
        "arr = np.array([[1, 2, 3], [4, 5, 6]]   ndim=2)\n",
        "print()"
      ],
      "metadata": {
        "colab": {
          "base_uri": "https://localhost:8080/",
          "height": 106
        },
        "id": "_Nrvdofy7jmg",
        "outputId": "8d173e69-7394-4720-8351-edce0b97ecb7"
      },
      "execution_count": null,
      "outputs": [
        {
          "output_type": "error",
          "ename": "SyntaxError",
          "evalue": "invalid syntax. Perhaps you forgot a comma? (<ipython-input-26-762d44395c8d>, line 1)",
          "traceback": [
            "\u001b[0;36m  File \u001b[0;32m\"<ipython-input-26-762d44395c8d>\"\u001b[0;36m, line \u001b[0;32m1\u001b[0m\n\u001b[0;31m    arr = np.array([[1, 2, 3], [4, 5, 6]]   ndim=2)\u001b[0m\n\u001b[0m                   ^\u001b[0m\n\u001b[0;31mSyntaxError\u001b[0m\u001b[0;31m:\u001b[0m invalid syntax. Perhaps you forgot a comma?\n"
          ]
        }
      ]
    },
    {
      "cell_type": "code",
      "source": [
        "arr = np.array([[[1, 2, 3], [4, 5, 6]], [[1, 2, 3], [4, 5, 6]]])\n",
        "\n",
        "print(arr)"
      ],
      "metadata": {
        "colab": {
          "base_uri": "https://localhost:8080/"
        },
        "id": "ZBdGdSY9AV6f",
        "outputId": "0b7e8c7f-b9b9-45cf-b083-b5564fc11bc5"
      },
      "execution_count": null,
      "outputs": [
        {
          "output_type": "stream",
          "name": "stdout",
          "text": [
            "[[[1 2 3]\n",
            "  [4 5 6]]\n",
            "\n",
            " [[1 2 3]\n",
            "  [4 5 6]]]\n"
          ]
        }
      ]
    },
    {
      "cell_type": "code",
      "source": [
        "\n",
        "\n",
        "a = np.array(42)\n",
        "\n",
        "b = np.array([1, 2, 3, 4, 5])\n",
        "\n",
        "c = np.array([[1, 2, 3], [4, 5, 6]])\n",
        "\n",
        "d = np.array([[[1, 2, 3], [4, 5, 6]], [[1, 2, 3], [4, 5, 6]]])\n",
        "\n",
        "\n",
        "print(a.ndim)\n",
        "print(b.ndim)\n",
        "print(c.ndim)\n",
        "print(d.ndim)\n"
      ],
      "metadata": {
        "colab": {
          "base_uri": "https://localhost:8080/"
        },
        "id": "30pyCEAVAfB3",
        "outputId": "976bee66-6b36-4f12-c19b-b02ad6f55901"
      },
      "execution_count": null,
      "outputs": [
        {
          "output_type": "stream",
          "name": "stdout",
          "text": [
            "0\n",
            "1\n",
            "2\n",
            "3\n"
          ]
        }
      ]
    },
    {
      "cell_type": "code",
      "source": [
        "arr = np.array([1, 2, 3, 4])\n",
        "\n",
        "print(arr[0])\n"
      ],
      "metadata": {
        "colab": {
          "base_uri": "https://localhost:8080/"
        },
        "id": "KO-17WC9A546",
        "outputId": "7c20aaf8-4956-43f8-ce5d-44e1194f9a5f"
      },
      "execution_count": null,
      "outputs": [
        {
          "output_type": "stream",
          "name": "stdout",
          "text": [
            "1\n"
          ]
        }
      ]
    },
    {
      "cell_type": "code",
      "source": [
        "arr = np.array([1, 2, 3, 4])\n",
        "\n",
        "print(arr[2] + arr[3])"
      ],
      "metadata": {
        "colab": {
          "base_uri": "https://localhost:8080/"
        },
        "id": "hcUCMsSuBKAQ",
        "outputId": "b9d6c3e4-cc74-43f1-ddf9-cbf6232d606b"
      },
      "execution_count": null,
      "outputs": [
        {
          "output_type": "stream",
          "name": "stdout",
          "text": [
            "7\n"
          ]
        }
      ]
    },
    {
      "cell_type": "code",
      "source": [
        "arr = np.array([[1,2,3,4,5], [6,7,8,9,10]])\n",
        "print(arr)\n",
        "print('2nd element on 1st row: ', arr[1,2])"
      ],
      "metadata": {
        "colab": {
          "base_uri": "https://localhost:8080/"
        },
        "id": "h0U1dwouBSs_",
        "outputId": "1433f50d-e380-4f2d-85d6-769f37e8b310"
      },
      "execution_count": null,
      "outputs": [
        {
          "output_type": "stream",
          "name": "stdout",
          "text": [
            "[[ 1  2  3  4  5]\n",
            " [ 6  7  8  9 10]]\n",
            "2nd element on 1st row:  8\n"
          ]
        }
      ]
    },
    {
      "cell_type": "code",
      "source": [
        "arr = np.array([[[1, 2, 3], [4, 5, 6]], [[7, 8, 9], [10, 11, 12]]])\n",
        "print(arr)\n",
        "print(arr[1, 1, 0])"
      ],
      "metadata": {
        "colab": {
          "base_uri": "https://localhost:8080/"
        },
        "id": "JsOCsIHXB5KH",
        "outputId": "e530dacd-2f29-415d-e57c-0ac2e00f24d8"
      },
      "execution_count": null,
      "outputs": [
        {
          "output_type": "stream",
          "name": "stdout",
          "text": [
            "[[[ 1  2  3]\n",
            "  [ 4  5  6]]\n",
            "\n",
            " [[ 7  8  9]\n",
            "  [10 11 12]]]\n",
            "10\n"
          ]
        }
      ]
    },
    {
      "cell_type": "code",
      "source": [
        "import numpy as np\n",
        "\n",
        "arr = np.array([[1,2,3,4,5], [6,7,8,9,10]])\n",
        "\n",
        "print('Last element from 2nd dim: ', arr[1, -1])"
      ],
      "metadata": {
        "colab": {
          "base_uri": "https://localhost:8080/"
        },
        "id": "u6yU0CdFEr9t",
        "outputId": "90d7a515-d2c9-4da5-b397-a91e1d37bbef"
      },
      "execution_count": null,
      "outputs": [
        {
          "output_type": "stream",
          "name": "stdout",
          "text": [
            "Last element from 2nd dim:  10\n"
          ]
        }
      ]
    },
    {
      "cell_type": "code",
      "source": [
        "\n",
        "\n",
        "arr = np.array([1, 2, 3, 4, 5, 6, 7])\n",
        "\n",
        "print(arr[1:5])\n"
      ],
      "metadata": {
        "colab": {
          "base_uri": "https://localhost:8080/"
        },
        "id": "-VLbc6UVFAjb",
        "outputId": "749d9f54-f35b-4e3a-b106-03ba76941e02"
      },
      "execution_count": null,
      "outputs": [
        {
          "output_type": "stream",
          "name": "stdout",
          "text": [
            "[2 3 4 5]\n"
          ]
        }
      ]
    },
    {
      "cell_type": "code",
      "source": [
        "arr = np.array([1, 2, 3, 4, 5, 6, 7])\n",
        "\n",
        "print(arr[4:])\n"
      ],
      "metadata": {
        "colab": {
          "base_uri": "https://localhost:8080/"
        },
        "id": "_8jWVyaEFGh8",
        "outputId": "367a5eee-ffdb-46ea-ef3d-05ca7e721293"
      },
      "execution_count": null,
      "outputs": [
        {
          "output_type": "stream",
          "name": "stdout",
          "text": [
            "[5 6 7]\n"
          ]
        }
      ]
    },
    {
      "cell_type": "code",
      "source": [
        "arr = np.array([1, 2, 3, 4, 5, 6, 7])\n",
        "\n",
        "print(arr[:3])\n",
        "\n"
      ],
      "metadata": {
        "colab": {
          "base_uri": "https://localhost:8080/"
        },
        "id": "uN5H6pj_FLLU",
        "outputId": "8b7f0c16-28d3-4827-bfa1-f28104fe4011"
      },
      "execution_count": null,
      "outputs": [
        {
          "output_type": "stream",
          "name": "stdout",
          "text": [
            "[1 2 3]\n"
          ]
        }
      ]
    },
    {
      "cell_type": "code",
      "source": [
        "# arr = np.array([1, 2, 3, 4])\n",
        "\n",
        "arr2=np.array([0.1, 2.9, 3.6, 40.3])\n",
        "print(arr2.dtype)\n",
        "\n",
        "\n",
        "# print(arr.dtype)"
      ],
      "metadata": {
        "colab": {
          "base_uri": "https://localhost:8080/"
        },
        "id": "VMSQF6MrFWMR",
        "outputId": "0b0fbc8f-4f1b-4406-9c2e-4946897b109c"
      },
      "execution_count": null,
      "outputs": [
        {
          "output_type": "stream",
          "name": "stdout",
          "text": [
            "float64\n"
          ]
        }
      ]
    },
    {
      "cell_type": "code",
      "source": [
        "arr = np.array(['apple', 'banana', 'cherry'])\n",
        "arr3 = np.array(['w', 'b', 'y'])\n",
        "\n",
        "print(arr.dtype)\n",
        "print(arr3.dtype)"
      ],
      "metadata": {
        "colab": {
          "base_uri": "https://localhost:8080/"
        },
        "id": "SrFLqH-oFbtM",
        "outputId": "6b6e9cbd-f25e-4c65-bb5d-cdf4aa0c6004"
      },
      "execution_count": null,
      "outputs": [
        {
          "output_type": "stream",
          "name": "stdout",
          "text": [
            "<U6\n",
            "<U1\n"
          ]
        }
      ]
    },
    {
      "cell_type": "code",
      "source": [
        "arr = np.array([1, 2, 3, 4, 5])\n",
        "x = arr.copy()\n",
        "arr[0] = 42\n",
        "\n",
        "print(arr)\n",
        "print(x)\n"
      ],
      "metadata": {
        "colab": {
          "base_uri": "https://localhost:8080/"
        },
        "id": "scxmtk0QF4Cu",
        "outputId": "9f5c062d-16bb-4340-d187-d809f2576701"
      },
      "execution_count": null,
      "outputs": [
        {
          "output_type": "stream",
          "name": "stdout",
          "text": [
            "[42  2  3  4  5]\n",
            "[1 2 3 4 5]\n"
          ]
        }
      ]
    },
    {
      "cell_type": "code",
      "source": [
        "arr = np.array([10, 20, 30, 40, 50])\n",
        "x = arr.view()\n",
        "arr[0] = 42\n",
        "\n",
        "print(arr)\n",
        "print(x)\n"
      ],
      "metadata": {
        "colab": {
          "base_uri": "https://localhost:8080/"
        },
        "id": "FW58dvyhGD6E",
        "outputId": "63b0f336-9dce-426e-e226-3f0f82b343aa"
      },
      "execution_count": null,
      "outputs": [
        {
          "output_type": "stream",
          "name": "stdout",
          "text": [
            "[42 20 30 40 50]\n",
            "[42 20 30 40 50]\n"
          ]
        }
      ]
    },
    {
      "cell_type": "code",
      "source": [
        "np.array([1,2,3],dtype=float)\n"
      ],
      "metadata": {
        "colab": {
          "base_uri": "https://localhost:8080/"
        },
        "id": "YV0eENYTF-ji",
        "outputId": "5edf945b-b902-4fba-f911-74a62014524f"
      },
      "execution_count": null,
      "outputs": [
        {
          "output_type": "execute_result",
          "data": {
            "text/plain": [
              "array([1., 2., 3.])"
            ]
          },
          "metadata": {},
          "execution_count": 68
        }
      ]
    },
    {
      "cell_type": "code",
      "source": [],
      "metadata": {
        "id": "k6xHr0AqGqRy"
      },
      "execution_count": null,
      "outputs": []
    },
    {
      "cell_type": "code",
      "source": [
        "arr = np.array([1, 2, 3, 4, 5, 6, 7, 8, 9, 10, 11, 12])\n",
        "\n",
        "\n",
        "\n",
        "\n",
        "\n",
        "\n",
        "newarr = arr.reshape(4, 3)\n",
        "print(newarr)\n",
        "\n"
      ],
      "metadata": {
        "colab": {
          "base_uri": "https://localhost:8080/"
        },
        "id": "wcuPDik2HF6F",
        "outputId": "278cb43a-c272-43e2-b568-44a09a04608e"
      },
      "execution_count": null,
      "outputs": [
        {
          "output_type": "stream",
          "name": "stdout",
          "text": [
            "[[ 1  2  3]\n",
            " [ 4  5  6]\n",
            " [ 7  8  9]\n",
            " [10 11 12]]\n"
          ]
        }
      ]
    },
    {
      "cell_type": "code",
      "source": [
        "arr = np.array([1, 22,],[34, 3,],ndim=2)\n",
        "\n",
        "print(arr)\n",
        "print('shape of array :', arr.shape)"
      ],
      "metadata": {
        "colab": {
          "base_uri": "https://localhost:8080/",
          "height": 193
        },
        "id": "FpbOQBmuG1Bz",
        "outputId": "13a23c9d-0271-4be2-cc07-1d02c2de7d10"
      },
      "execution_count": null,
      "outputs": [
        {
          "output_type": "error",
          "ename": "TypeError",
          "evalue": "array() got an unexpected keyword argument 'ndim'",
          "traceback": [
            "\u001b[0;31m---------------------------------------------------------------------------\u001b[0m",
            "\u001b[0;31mTypeError\u001b[0m                                 Traceback (most recent call last)",
            "\u001b[0;32m<ipython-input-25-811f9a0f7284>\u001b[0m in \u001b[0;36m<cell line: 1>\u001b[0;34m()\u001b[0m\n\u001b[0;32m----> 1\u001b[0;31m \u001b[0marr\u001b[0m \u001b[0;34m=\u001b[0m \u001b[0mnp\u001b[0m\u001b[0;34m.\u001b[0m\u001b[0marray\u001b[0m\u001b[0;34m(\u001b[0m\u001b[0;34m[\u001b[0m\u001b[0;36m1\u001b[0m\u001b[0;34m,\u001b[0m \u001b[0;36m22\u001b[0m\u001b[0;34m,\u001b[0m\u001b[0;36m34\u001b[0m\u001b[0;34m,\u001b[0m \u001b[0;36m3\u001b[0m\u001b[0;34m,\u001b[0m \u001b[0;36m4\u001b[0m\u001b[0;34m]\u001b[0m\u001b[0;34m,\u001b[0m\u001b[0mndim\u001b[0m\u001b[0;34m=\u001b[0m\u001b[0;36m2\u001b[0m\u001b[0;34m)\u001b[0m\u001b[0;34m\u001b[0m\u001b[0;34m\u001b[0m\u001b[0m\n\u001b[0m\u001b[1;32m      2\u001b[0m \u001b[0;34m\u001b[0m\u001b[0m\n\u001b[1;32m      3\u001b[0m \u001b[0mprint\u001b[0m\u001b[0;34m(\u001b[0m\u001b[0marr\u001b[0m\u001b[0;34m)\u001b[0m\u001b[0;34m\u001b[0m\u001b[0;34m\u001b[0m\u001b[0m\n\u001b[1;32m      4\u001b[0m \u001b[0mprint\u001b[0m\u001b[0;34m(\u001b[0m\u001b[0;34m'shape of array :'\u001b[0m\u001b[0;34m,\u001b[0m \u001b[0marr\u001b[0m\u001b[0;34m.\u001b[0m\u001b[0mshape\u001b[0m\u001b[0;34m)\u001b[0m\u001b[0;34m\u001b[0m\u001b[0;34m\u001b[0m\u001b[0m\n",
            "\u001b[0;31mTypeError\u001b[0m: array() got an unexpected keyword argument 'ndim'"
          ]
        }
      ]
    },
    {
      "cell_type": "code",
      "source": [
        "arr = np.array([1, 2, 3])\n",
        "\n",
        "for x in arr:\n",
        "  print(x)"
      ],
      "metadata": {
        "colab": {
          "base_uri": "https://localhost:8080/"
        },
        "id": "Zrs6gy2JHl2Z",
        "outputId": "e3f986c2-6b91-4e95-d3a6-ac394f9ff060"
      },
      "execution_count": null,
      "outputs": [
        {
          "output_type": "stream",
          "name": "stdout",
          "text": [
            "1\n",
            "2\n",
            "3\n"
          ]
        }
      ]
    },
    {
      "cell_type": "code",
      "source": [],
      "metadata": {
        "id": "jRWo_JV7Mk7f"
      },
      "execution_count": null,
      "outputs": []
    },
    {
      "cell_type": "code",
      "source": [
        "arr = np.array([[1, 2, 3], [4, 5, 6]])\n",
        "\n",
        "for x in arr:\n",
        "  print(x)"
      ],
      "metadata": {
        "colab": {
          "base_uri": "https://localhost:8080/"
        },
        "id": "i8u1d9DuHrO8",
        "outputId": "b15eb48f-276a-46ac-ebde-c7cf28c26b03"
      },
      "execution_count": null,
      "outputs": [
        {
          "output_type": "stream",
          "name": "stdout",
          "text": [
            "[1 2 3]\n",
            "[4 5 6]\n"
          ]
        }
      ]
    },
    {
      "cell_type": "code",
      "source": [
        "arr = np.array([[1, 2, 3], [4, 5, 6]])\n",
        "\n",
        "for x in arr:\n",
        "  for y in x:\n",
        "    print(y)\n"
      ],
      "metadata": {
        "colab": {
          "base_uri": "https://localhost:8080/"
        },
        "id": "OO88UR-oHvHF",
        "outputId": "4bad83fc-b7a5-4f61-c97d-1ebb59b4c79d"
      },
      "execution_count": null,
      "outputs": [
        {
          "output_type": "stream",
          "name": "stdout",
          "text": [
            "1\n",
            "2\n",
            "3\n",
            "4\n",
            "5\n",
            "6\n"
          ]
        }
      ]
    },
    {
      "cell_type": "code",
      "source": [
        "arr = np.array([[[1, 2, 3], [4, 5, 6]], [[7, 8, 9], [10, 11, 12]]])\n",
        "\n",
        "for x in arr:\n",
        "  print(x)"
      ],
      "metadata": {
        "colab": {
          "base_uri": "https://localhost:8080/"
        },
        "id": "qMbc885lH5Pz",
        "outputId": "4ffb7005-f316-4333-8772-389648881b5e"
      },
      "execution_count": null,
      "outputs": [
        {
          "output_type": "stream",
          "name": "stdout",
          "text": [
            "[[1 2 3]\n",
            " [4 5 6]]\n",
            "[[ 7  8  9]\n",
            " [10 11 12]]\n"
          ]
        }
      ]
    },
    {
      "cell_type": "code",
      "source": [
        "arr1 = np.array([1, 2, 3])\n",
        "\n",
        "arr2 = np.array([4, 5, 6])\n",
        "\n",
        "arr = np.concatenate((arr1, arr2))\n",
        "print(arr)"
      ],
      "metadata": {
        "colab": {
          "base_uri": "https://localhost:8080/"
        },
        "id": "W0wJh2SdH_1-",
        "outputId": "cd174a74-995a-4048-8625-ae2f3a01cefa"
      },
      "execution_count": null,
      "outputs": [
        {
          "output_type": "stream",
          "name": "stdout",
          "text": [
            "[1 2 3 4 5 6]\n"
          ]
        }
      ]
    },
    {
      "cell_type": "code",
      "source": [
        "arr1 = np.array([[1, 2], [3, 4]])\n",
        "\n",
        "arr2 = np.array([[5, 6], [7, 8]])\n",
        "\n",
        "arr = np.concatenate((arr1, arr2))\n",
        "arr = np.concatenate((arr1, arr2))\n",
        "\n",
        "arr3 = np.concatenate((arr1, arr2),axis=1)\n",
        "arr2 = np.concatenate((arr1, arr2),axis=0)\n",
        "\n",
        "\n",
        "# print(arr1)\n",
        "# print(arr2)\n",
        "# print(arr3)\n",
        "print(arr3)\n",
        "print(arr2)"
      ],
      "metadata": {
        "colab": {
          "base_uri": "https://localhost:8080/"
        },
        "id": "WKI2BTPeIP1s",
        "outputId": "2dffc059-3507-4cd8-ba8d-7ff159aa8f4b"
      },
      "execution_count": null,
      "outputs": [
        {
          "output_type": "stream",
          "name": "stdout",
          "text": [
            "[[1 2 5 6]\n",
            " [3 4 7 8]]\n",
            "[[1 2]\n",
            " [3 4]\n",
            " [5 6]\n",
            " [7 8]]\n"
          ]
        }
      ]
    },
    {
      "cell_type": "code",
      "source": [
        "np.arange(1,11,3)"
      ],
      "metadata": {
        "colab": {
          "base_uri": "https://localhost:8080/"
        },
        "id": "_Kl1zhW5F-rs",
        "outputId": "86afcb2f-7877-4e4b-8b1f-314568ad90a0"
      },
      "execution_count": null,
      "outputs": [
        {
          "output_type": "execute_result",
          "data": {
            "text/plain": [
              "array([ 1,  4,  7, 10])"
            ]
          },
          "metadata": {},
          "execution_count": 56
        }
      ]
    },
    {
      "cell_type": "code",
      "source": [],
      "metadata": {
        "id": "wgkn9UK_H_PC"
      },
      "execution_count": null,
      "outputs": []
    },
    {
      "cell_type": "code",
      "source": [
        "\n",
        "np.arange(8).reshape(2,2,2)\n",
        "\n"
      ],
      "metadata": {
        "colab": {
          "base_uri": "https://localhost:8080/"
        },
        "id": "qonufoGuF-uq",
        "outputId": "78fd3a19-d5fa-4b3f-b878-e44558bc957b"
      },
      "execution_count": null,
      "outputs": [
        {
          "output_type": "execute_result",
          "data": {
            "text/plain": [
              "array([[[0, 1],\n",
              "        [2, 3]],\n",
              "\n",
              "       [[4, 5],\n",
              "        [6, 7]]])"
            ]
          },
          "metadata": {},
          "execution_count": 68
        }
      ]
    },
    {
      "cell_type": "code",
      "source": [
        "np.ones((3,4))"
      ],
      "metadata": {
        "colab": {
          "base_uri": "https://localhost:8080/"
        },
        "id": "RxEdDkeJF-yS",
        "outputId": "2f6a8846-60e5-4599-fdd8-ab5a6725d736"
      },
      "execution_count": null,
      "outputs": [
        {
          "output_type": "execute_result",
          "data": {
            "text/plain": [
              "array([[1., 1., 1., 1.],\n",
              "       [1., 1., 1., 1.],\n",
              "       [1., 1., 1., 1.]])"
            ]
          },
          "metadata": {},
          "execution_count": 11
        }
      ]
    },
    {
      "cell_type": "code",
      "source": [
        "np.zeros((4,4))"
      ],
      "metadata": {
        "colab": {
          "base_uri": "https://localhost:8080/"
        },
        "id": "Ox-ICSAdF-0X",
        "outputId": "fa46cd4b-6c75-492a-f0e5-07ac95f6011e"
      },
      "execution_count": null,
      "outputs": [
        {
          "output_type": "execute_result",
          "data": {
            "text/plain": [
              "array([[0., 0., 0., 0.],\n",
              "       [0., 0., 0., 0.],\n",
              "       [0., 0., 0., 0.],\n",
              "       [0., 0., 0., 0.]])"
            ]
          },
          "metadata": {},
          "execution_count": 69
        }
      ]
    },
    {
      "cell_type": "code",
      "source": [
        "np.random.random((20,30))"
      ],
      "metadata": {
        "colab": {
          "base_uri": "https://localhost:8080/"
        },
        "id": "WkNyMeGZF-30",
        "outputId": "cfca0c78-9eae-46d8-8478-2631011821a9"
      },
      "execution_count": null,
      "outputs": [
        {
          "output_type": "execute_result",
          "data": {
            "text/plain": [
              "array([[0.27018742, 0.29195282, 0.74118774, 0.19183376, 0.55210333,\n",
              "        0.54428039, 0.55248731, 0.12152935, 0.45980597, 0.20271429,\n",
              "        0.3348168 , 0.82733182, 0.50267544, 0.92135447, 0.34410987,\n",
              "        0.02847746, 0.97618877, 0.4662026 , 0.18088132, 0.23366121,\n",
              "        0.89149923, 0.15659494, 0.88509553, 0.62107157, 0.04180788,\n",
              "        0.13522999, 0.15109225, 0.3487788 , 0.68480038, 0.6792341 ],\n",
              "       [0.80949209, 0.14593699, 0.95701862, 0.55805854, 0.25574341,\n",
              "        0.89932951, 0.99077244, 0.79019889, 0.45554099, 0.9403405 ,\n",
              "        0.32881165, 0.07873276, 0.603398  , 0.3365007 , 0.24798296,\n",
              "        0.0334235 , 0.45918381, 0.41966473, 0.84479427, 0.19655495,\n",
              "        0.70890361, 0.42642126, 0.03691027, 0.68006296, 0.71230957,\n",
              "        0.7269846 , 0.72183853, 0.62519827, 0.78434948, 0.45339557],\n",
              "       [0.26853259, 0.20522075, 0.41288547, 0.00489301, 0.41809095,\n",
              "        0.07709922, 0.35208131, 0.6599761 , 0.69706952, 0.8693808 ,\n",
              "        0.64953019, 0.04221908, 0.82320731, 0.84602428, 0.56590561,\n",
              "        0.28185175, 0.0538439 , 0.54257969, 0.66887071, 0.78813528,\n",
              "        0.99117949, 0.39919509, 0.15535035, 0.72723744, 0.48896646,\n",
              "        0.99494848, 0.35550593, 0.80825109, 0.67236151, 0.09040677],\n",
              "       [0.4487656 , 0.54543286, 0.7460926 , 0.18252996, 0.00272621,\n",
              "        0.38936661, 0.4444373 , 0.13152014, 0.0503486 , 0.68029386,\n",
              "        0.26496615, 0.84001627, 0.81891151, 0.19683576, 0.68439198,\n",
              "        0.34238696, 0.3581727 , 0.31212396, 0.40526058, 0.70489458,\n",
              "        0.15200021, 0.79484969, 0.88996905, 0.28376577, 0.74849895,\n",
              "        0.431141  , 0.50067095, 0.81157041, 0.81327273, 0.81302949],\n",
              "       [0.18308919, 0.80459226, 0.8961055 , 0.65908661, 0.08999297,\n",
              "        0.89947302, 0.60727153, 0.61718937, 0.81941017, 0.07597929,\n",
              "        0.17351837, 0.87516042, 0.95095442, 0.05273073, 0.88362591,\n",
              "        0.36809275, 0.33651809, 0.30284334, 0.76794864, 0.58297012,\n",
              "        0.37280451, 0.95859602, 0.52217814, 0.22777382, 0.54582661,\n",
              "        0.68101805, 0.40841447, 0.16829514, 0.83398979, 0.72904014],\n",
              "       [0.95676712, 0.38751703, 0.59355096, 0.0887272 , 0.1891775 ,\n",
              "        0.60266346, 0.31921659, 0.31966782, 0.35539863, 0.47899617,\n",
              "        0.89590157, 0.37190505, 0.57826445, 0.045514  , 0.87418227,\n",
              "        0.15160431, 0.61443022, 0.56073219, 0.30819218, 0.1704885 ,\n",
              "        0.70076103, 0.03157449, 0.56573236, 0.45171502, 0.41881066,\n",
              "        0.52921146, 0.22702087, 0.33262853, 0.80887094, 0.0807243 ],\n",
              "       [0.83797841, 0.57510858, 0.24512817, 0.21032207, 0.57278678,\n",
              "        0.8471921 , 0.5834922 , 0.42453757, 0.61290093, 0.26608639,\n",
              "        0.23568423, 0.54048829, 0.34923292, 0.91639769, 0.28520782,\n",
              "        0.87593515, 0.01441514, 0.68517601, 0.07862837, 0.48697672,\n",
              "        0.02672713, 0.26041085, 0.16585847, 0.80897808, 0.85667125,\n",
              "        0.74647749, 0.92543442, 0.65335094, 0.48685112, 0.39626194],\n",
              "       [0.8674088 , 0.77257318, 0.00323481, 0.51276243, 0.84030363,\n",
              "        0.35002596, 0.29301048, 0.33274404, 0.57728806, 0.34235454,\n",
              "        0.57765644, 0.707748  , 0.24403354, 0.91144192, 0.52749266,\n",
              "        0.60184689, 0.44756935, 0.17279501, 0.75093701, 0.23038184,\n",
              "        0.97850368, 0.70634227, 0.48973312, 0.97831863, 0.19028432,\n",
              "        0.87530593, 0.54343578, 0.03273604, 0.58838008, 0.19256812],\n",
              "       [0.64657518, 0.46658714, 0.33957533, 0.63913314, 0.89422966,\n",
              "        0.93126039, 0.50343021, 0.58071693, 0.15121198, 0.01347756,\n",
              "        0.64633835, 0.48389479, 0.18039941, 0.80249919, 0.4903404 ,\n",
              "        0.91578088, 0.12222928, 0.98743654, 0.26787944, 0.64705513,\n",
              "        0.29323785, 0.82876246, 0.37723716, 0.14669537, 0.68694602,\n",
              "        0.179121  , 0.93088225, 0.05540079, 0.76259426, 0.67390471],\n",
              "       [0.3428868 , 0.08816109, 0.02536315, 0.46461361, 0.37848154,\n",
              "        0.62190483, 0.68332083, 0.36402513, 0.55781045, 0.99938646,\n",
              "        0.85177985, 0.29434259, 0.04963632, 0.65807962, 0.39577064,\n",
              "        0.94792025, 0.17820765, 0.15010944, 0.92591791, 0.66586601,\n",
              "        0.95989979, 0.52968367, 0.83039269, 0.99264224, 0.33729114,\n",
              "        0.93559559, 0.81293837, 0.42798197, 0.17826874, 0.20340274],\n",
              "       [0.14025854, 0.41031441, 0.87347642, 0.27372878, 0.30055529,\n",
              "        0.8032884 , 0.78873047, 0.68122734, 0.06227567, 0.9828236 ,\n",
              "        0.76209666, 0.54941631, 0.79768296, 0.19625907, 0.72127915,\n",
              "        0.25872703, 0.06916259, 0.58064716, 0.92057215, 0.98339159,\n",
              "        0.23128739, 0.63358064, 0.77855328, 0.74816684, 0.53503001,\n",
              "        0.96702514, 0.22292776, 0.09383768, 0.02694571, 0.32058419],\n",
              "       [0.50203761, 0.59822643, 0.53225101, 0.54869758, 0.18977253,\n",
              "        0.81875203, 0.27506439, 0.74130351, 0.16302594, 0.62885088,\n",
              "        0.87950036, 0.30114659, 0.20027567, 0.2442019 , 0.40998206,\n",
              "        0.79351702, 0.06663595, 0.23752048, 0.71671323, 0.65704609,\n",
              "        0.00618878, 0.84018239, 0.88237252, 0.69505699, 0.65442642,\n",
              "        0.61767585, 0.47117684, 0.46527267, 0.71028225, 0.11311929],\n",
              "       [0.14910629, 0.12090303, 0.69858149, 0.7453226 , 0.6367944 ,\n",
              "        0.10733925, 0.75947193, 0.00646615, 0.9905391 , 0.11032882,\n",
              "        0.96378195, 0.96888914, 0.53332272, 0.17327938, 0.74120404,\n",
              "        0.31655729, 0.52143081, 0.07436998, 0.40434661, 0.1314056 ,\n",
              "        0.03470506, 0.38775513, 0.52357546, 0.29987506, 0.22784622,\n",
              "        0.54748422, 0.35223299, 0.18568085, 0.99766858, 0.96437503],\n",
              "       [0.20205484, 0.67729009, 0.96561471, 0.37274471, 0.28956665,\n",
              "        0.4145437 , 0.78008001, 0.62542516, 0.38680556, 0.98594059,\n",
              "        0.74303597, 0.02887466, 0.15760168, 0.55420591, 0.22181622,\n",
              "        0.69714183, 0.30725188, 0.36367407, 0.99530617, 0.75011369,\n",
              "        0.58032523, 0.57389365, 0.84576145, 0.02609412, 0.20472001,\n",
              "        0.54097744, 0.46004392, 0.28164539, 0.10457171, 0.14239975],\n",
              "       [0.25077703, 0.62870935, 0.56388476, 0.79374466, 0.0954912 ,\n",
              "        0.19344455, 0.51585962, 0.72674973, 0.90100249, 0.70690158,\n",
              "        0.86633144, 0.05606768, 0.9024302 , 0.17075861, 0.3162694 ,\n",
              "        0.3485017 , 0.91544325, 0.22785877, 0.16965478, 0.94186834,\n",
              "        0.69184604, 0.48668856, 0.15425306, 0.20713984, 0.06651379,\n",
              "        0.7435089 , 0.95881791, 0.87475413, 0.78564325, 0.32331271],\n",
              "       [0.950235  , 0.21774425, 0.30704226, 0.55215826, 0.17218151,\n",
              "        0.29223659, 0.59829436, 0.44319863, 0.09658592, 0.99930268,\n",
              "        0.73487756, 0.41217106, 0.98927742, 0.28610885, 0.95558104,\n",
              "        0.87481519, 0.50333432, 0.72546046, 0.13092274, 0.68129381,\n",
              "        0.05326967, 0.17315963, 0.73487033, 0.49676582, 0.89480371,\n",
              "        0.99537932, 0.32297229, 0.43578179, 0.17032257, 0.4738515 ],\n",
              "       [0.58719842, 0.52723217, 0.15004271, 0.25007065, 0.85976677,\n",
              "        0.25838983, 0.79769842, 0.19726606, 0.66625801, 0.21038868,\n",
              "        0.76314313, 0.23050672, 0.82859297, 0.49236129, 0.35385794,\n",
              "        0.34153614, 0.93729011, 0.93967992, 0.01396763, 0.36595853,\n",
              "        0.4504929 , 0.59925092, 0.5674404 , 0.55756534, 0.89551938,\n",
              "        0.07434929, 0.8019983 , 0.72002653, 0.67750021, 0.94952055],\n",
              "       [0.50023017, 0.7272221 , 0.10294286, 0.72650328, 0.37809639,\n",
              "        0.18209893, 0.87891216, 0.24955733, 0.26820861, 0.1888085 ,\n",
              "        0.47189354, 0.21971467, 0.73452203, 0.27603923, 0.63886892,\n",
              "        0.32451259, 0.48037287, 0.0431939 , 0.61664269, 0.39298935,\n",
              "        0.77836714, 0.96496235, 0.93799187, 0.26910918, 0.98716655,\n",
              "        0.93757755, 0.41116951, 0.45795738, 0.18216647, 0.61987805],\n",
              "       [0.34588718, 0.28280507, 0.62247597, 0.67978243, 0.17736022,\n",
              "        0.92009723, 0.18622166, 0.06139273, 0.21890609, 0.56273729,\n",
              "        0.0942974 , 0.77575834, 0.67361219, 0.73284514, 0.39225932,\n",
              "        0.95983026, 0.53210346, 0.70159331, 0.27575984, 0.17982575,\n",
              "        0.67873529, 0.01149801, 0.70811638, 0.61607025, 0.27387224,\n",
              "        0.2121451 , 0.3630311 , 0.63436968, 0.09942146, 0.34530141],\n",
              "       [0.07744288, 0.28409783, 0.95406046, 0.43196595, 0.80128767,\n",
              "        0.62396679, 0.8363581 , 0.33817695, 0.97190608, 0.34902926,\n",
              "        0.42023858, 0.65851505, 0.23250021, 0.98078164, 0.55149454,\n",
              "        0.41584609, 0.16682802, 0.66872722, 0.26202701, 0.74496034,\n",
              "        0.79501255, 0.66080809, 0.12680867, 0.77889072, 0.55824768,\n",
              "        0.58952134, 0.690028  , 0.17996625, 0.2792152 , 0.21991044]])"
            ]
          },
          "metadata": {},
          "execution_count": 70
        }
      ]
    },
    {
      "cell_type": "code",
      "source": [
        "np.linspace(-10,10,10 ,dtype=int)\n",
        "\n"
      ],
      "metadata": {
        "colab": {
          "base_uri": "https://localhost:8080/"
        },
        "id": "7gB6Zz39F-7S",
        "outputId": "f6a3d20d-0271-42e8-9312-82cae94e8094"
      },
      "execution_count": null,
      "outputs": [
        {
          "output_type": "execute_result",
          "data": {
            "text/plain": [
              "array([-10,  -8,  -6,  -4,  -2,   1,   3,   5,   7,  10])"
            ]
          },
          "metadata": {},
          "execution_count": 73
        }
      ]
    },
    {
      "cell_type": "code",
      "source": [
        "np.identity(3)\n"
      ],
      "metadata": {
        "colab": {
          "base_uri": "https://localhost:8080/"
        },
        "id": "dDVsp-sdF-9I",
        "outputId": "d4f9a345-5fb4-4250-dcb5-45fc8c530ef7"
      },
      "execution_count": null,
      "outputs": [
        {
          "output_type": "execute_result",
          "data": {
            "text/plain": [
              "array([[1., 0., 0.],\n",
              "       [0., 1., 0.],\n",
              "       [0., 0., 1.]])"
            ]
          },
          "metadata": {},
          "execution_count": 75
        }
      ]
    },
    {
      "cell_type": "code",
      "source": [
        "a3 = np.arange(8).reshape(2,2,2)"
      ],
      "metadata": {
        "id": "0Illftt8F_Qc"
      },
      "execution_count": null,
      "outputs": []
    },
    {
      "cell_type": "code",
      "source": [
        "a3"
      ],
      "metadata": {
        "colab": {
          "base_uri": "https://localhost:8080/"
        },
        "id": "H-r6E4I3F_ST",
        "outputId": "d61f4cc0-d19f-411d-c237-f552b4ad70b3"
      },
      "execution_count": null,
      "outputs": [
        {
          "output_type": "execute_result",
          "data": {
            "text/plain": [
              "array([[[0, 1],\n",
              "        [2, 3]],\n",
              "\n",
              "       [[4, 5],\n",
              "        [6, 7]]])"
            ]
          },
          "metadata": {},
          "execution_count": 52
        }
      ]
    },
    {
      "cell_type": "code",
      "source": [
        "a3.ndim"
      ],
      "metadata": {
        "colab": {
          "base_uri": "https://localhost:8080/"
        },
        "id": "O8fdlYo2F_Vp",
        "outputId": "91bc18c6-5cdd-40f4-ddc7-14d60bcc5eb2"
      },
      "execution_count": null,
      "outputs": [
        {
          "output_type": "execute_result",
          "data": {
            "text/plain": [
              "3"
            ]
          },
          "metadata": {},
          "execution_count": 17
        }
      ]
    },
    {
      "cell_type": "code",
      "source": [
        "print(a3.shape)\n",
        "a3"
      ],
      "metadata": {
        "colab": {
          "base_uri": "https://localhost:8080/"
        },
        "id": "dBWWWqshF_a1",
        "outputId": "4e559b10-63a5-4774-b037-16bf07189a78"
      },
      "execution_count": null,
      "outputs": [
        {
          "output_type": "stream",
          "name": "stdout",
          "text": [
            "(2, 2, 2)\n"
          ]
        },
        {
          "output_type": "execute_result",
          "data": {
            "text/plain": [
              "array([[[0, 1],\n",
              "        [2, 3]],\n",
              "\n",
              "       [[4, 5],\n",
              "        [6, 7]]])"
            ]
          },
          "metadata": {},
          "execution_count": 18
        }
      ]
    },
    {
      "cell_type": "code",
      "source": [
        "print(a3.dtype)"
      ],
      "metadata": {
        "colab": {
          "base_uri": "https://localhost:8080/"
        },
        "id": "ayWkoJ9ZF_on",
        "outputId": "414840ff-c896-4960-abd4-6ec05d01b81f"
      },
      "execution_count": null,
      "outputs": [
        {
          "output_type": "stream",
          "name": "stdout",
          "text": [
            "int64\n"
          ]
        }
      ]
    },
    {
      "cell_type": "code",
      "source": [
        "a3.astype(np.int32)\n"
      ],
      "metadata": {
        "colab": {
          "base_uri": "https://localhost:8080/"
        },
        "id": "zRjvaWufF_rd",
        "outputId": "7f67f8c3-cd5f-4f89-ff53-d1725d86c471"
      },
      "execution_count": null,
      "outputs": [
        {
          "output_type": "execute_result",
          "data": {
            "text/plain": [
              "array([[[0, 1],\n",
              "        [2, 3]],\n",
              "\n",
              "       [[4, 5],\n",
              "        [6, 7]]], dtype=int32)"
            ]
          },
          "metadata": {},
          "execution_count": 27
        }
      ]
    },
    {
      "cell_type": "code",
      "source": [
        "a3.astype(np.int32)"
      ],
      "metadata": {
        "id": "pHFq4oRSF_uE",
        "colab": {
          "base_uri": "https://localhost:8080/"
        },
        "outputId": "cb951d42-b926-4b84-9665-ad30fcf4dedb"
      },
      "execution_count": null,
      "outputs": [
        {
          "output_type": "execute_result",
          "data": {
            "text/plain": [
              "array([[[0, 1],\n",
              "        [2, 3]],\n",
              "\n",
              "       [[4, 5],\n",
              "        [6, 7]]], dtype=int32)"
            ]
          },
          "metadata": {},
          "execution_count": 28
        }
      ]
    },
    {
      "cell_type": "code",
      "source": [
        "a3 ** 2"
      ],
      "metadata": {
        "colab": {
          "base_uri": "https://localhost:8080/"
        },
        "id": "VdIpjeGAF_wp",
        "outputId": "d713e62e-9357-4d68-8b92-16e3d408176b"
      },
      "execution_count": null,
      "outputs": [
        {
          "output_type": "execute_result",
          "data": {
            "text/plain": [
              "array([[[ 0,  1],\n",
              "        [ 4,  9]],\n",
              "\n",
              "       [[16, 25],\n",
              "        [36, 49]]])"
            ]
          },
          "metadata": {},
          "execution_count": 30
        }
      ]
    },
    {
      "cell_type": "code",
      "source": [
        "a3 == 15"
      ],
      "metadata": {
        "colab": {
          "base_uri": "https://localhost:8080/"
        },
        "id": "0tgNljNRF_13",
        "outputId": "84a8732e-c778-4f46-dd89-71468da61cb9"
      },
      "execution_count": null,
      "outputs": [
        {
          "output_type": "execute_result",
          "data": {
            "text/plain": [
              "array([[[False, False],\n",
              "        [False, False]],\n",
              "\n",
              "       [[False, False],\n",
              "        [False, False]]])"
            ]
          },
          "metadata": {},
          "execution_count": 33
        }
      ]
    },
    {
      "cell_type": "code",
      "source": [
        "a1 = np.random.random((3,3))\n",
        "a1 = np.round(a1*100)\n",
        "a1"
      ],
      "metadata": {
        "colab": {
          "base_uri": "https://localhost:8080/"
        },
        "id": "7b48qdD8GABS",
        "outputId": "d551daf4-282b-4224-f19e-74970bc838d6"
      },
      "execution_count": null,
      "outputs": [
        {
          "output_type": "execute_result",
          "data": {
            "text/plain": [
              "array([[100.,   1.,  26.],\n",
              "       [ 85.,  56.,  97.],\n",
              "       [ 88.,  65.,  43.]])"
            ]
          },
          "metadata": {},
          "execution_count": 34
        }
      ]
    },
    {
      "cell_type": "code",
      "source": [
        "np.sin(a1)"
      ],
      "metadata": {
        "colab": {
          "base_uri": "https://localhost:8080/"
        },
        "id": "Z23EkMmoGAD4",
        "outputId": "28bb0a88-519c-401c-d5a5-89cebd294d35"
      },
      "execution_count": null,
      "outputs": [
        {
          "output_type": "execute_result",
          "data": {
            "text/plain": [
              "array([[-0.50636564,  0.84147098,  0.76255845],\n",
              "       [-0.17607562, -0.521551  ,  0.37960774],\n",
              "       [ 0.0353983 ,  0.82682868, -0.83177474]])"
            ]
          },
          "metadata": {},
          "execution_count": 35
        }
      ]
    },
    {
      "cell_type": "code",
      "source": [
        "a2 = np.arange(12).reshape(3,4)\n",
        "a3 = np.arange(12,24).reshape(4,3)\n",
        "\n",
        "np.dot(a2,a3)"
      ],
      "metadata": {
        "colab": {
          "base_uri": "https://localhost:8080/"
        },
        "id": "739BqlFgGAGl",
        "outputId": "bdedc7ad-2271-425a-eefa-8d3da1ffaaad"
      },
      "execution_count": null,
      "outputs": [
        {
          "output_type": "execute_result",
          "data": {
            "text/plain": [
              "array([[114, 120, 126],\n",
              "       [378, 400, 422],\n",
              "       [642, 680, 718]])"
            ]
          },
          "metadata": {},
          "execution_count": 36
        }
      ]
    },
    {
      "cell_type": "code",
      "source": [
        "arr = np.array([10, 20, 3])\n",
        "np.exp(arr)\n"
      ],
      "metadata": {
        "colab": {
          "base_uri": "https://localhost:8080/"
        },
        "id": "CvGdb7l1GAJM",
        "outputId": "fd01aa46-29ad-4e04-ef6a-d7149d316214"
      },
      "execution_count": null,
      "outputs": [
        {
          "output_type": "execute_result",
          "data": {
            "text/plain": [
              "array([2.20264658e+04, 4.85165195e+08, 2.00855369e+01])"
            ]
          },
          "metadata": {},
          "execution_count": 76
        }
      ]
    },
    {
      "cell_type": "code",
      "source": [
        "\n",
        "np.ceil(np.random.random((2,3))*100)"
      ],
      "metadata": {
        "colab": {
          "base_uri": "https://localhost:8080/"
        },
        "id": "o2pNAy7wGAMD",
        "outputId": "eecb4d1c-f80e-4d57-cf0b-e95db5568741"
      },
      "execution_count": null,
      "outputs": [
        {
          "output_type": "execute_result",
          "data": {
            "text/plain": [
              "array([[53., 17., 89.],\n",
              "       [61., 95., 25.]])"
            ]
          },
          "metadata": {},
          "execution_count": 38
        }
      ]
    },
    {
      "cell_type": "code",
      "source": [
        "np.transpose(a2)\n",
        "a2.T"
      ],
      "metadata": {
        "colab": {
          "base_uri": "https://localhost:8080/"
        },
        "id": "PpFGXFtkGAOg",
        "outputId": "c85b2f61-41f3-420a-bc2f-a1b61a1122e5"
      },
      "execution_count": null,
      "outputs": [
        {
          "output_type": "execute_result",
          "data": {
            "text/plain": [
              "array([[ 0,  4,  8],\n",
              "       [ 1,  5,  9],\n",
              "       [ 2,  6, 10],\n",
              "       [ 3,  7, 11]])"
            ]
          },
          "metadata": {},
          "execution_count": 39
        }
      ]
    },
    {
      "cell_type": "code",
      "source": [
        "# horizontal stacking\n",
        "a4 = np.arange(12).reshape(3,4)\n",
        "a5 = np.arange(12,24).reshape(3,4)\n",
        "a5"
      ],
      "metadata": {
        "colab": {
          "base_uri": "https://localhost:8080/"
        },
        "id": "gDYKo51TGARQ",
        "outputId": "3cd54dd5-ecb7-46d5-98ef-05551bdb8ccc"
      },
      "execution_count": null,
      "outputs": [
        {
          "output_type": "execute_result",
          "data": {
            "text/plain": [
              "array([[12, 13, 14, 15],\n",
              "       [16, 17, 18, 19],\n",
              "       [20, 21, 22, 23]])"
            ]
          },
          "metadata": {},
          "execution_count": 40
        }
      ]
    },
    {
      "cell_type": "code",
      "source": [
        "a4"
      ],
      "metadata": {
        "colab": {
          "base_uri": "https://localhost:8080/"
        },
        "id": "LVzmy0GFGAT8",
        "outputId": "755ac74e-f105-49c0-f0a8-8d01479b9567"
      },
      "execution_count": null,
      "outputs": [
        {
          "output_type": "execute_result",
          "data": {
            "text/plain": [
              "array([[ 0,  1,  2,  3],\n",
              "       [ 4,  5,  6,  7],\n",
              "       [ 8,  9, 10, 11]])"
            ]
          },
          "metadata": {},
          "execution_count": 41
        }
      ]
    },
    {
      "cell_type": "code",
      "source": [
        "a5"
      ],
      "metadata": {
        "colab": {
          "base_uri": "https://localhost:8080/"
        },
        "id": "TtnMRsu9GAWS",
        "outputId": "f8dd9af1-f3a8-494e-e17a-559cdf0aadf3"
      },
      "execution_count": null,
      "outputs": [
        {
          "output_type": "execute_result",
          "data": {
            "text/plain": [
              "array([[12, 13, 14, 15],\n",
              "       [16, 17, 18, 19],\n",
              "       [20, 21, 22, 23]])"
            ]
          },
          "metadata": {},
          "execution_count": 42
        }
      ]
    },
    {
      "cell_type": "code",
      "source": [],
      "metadata": {
        "id": "WMh9tPA6GAbn"
      },
      "execution_count": null,
      "outputs": []
    },
    {
      "cell_type": "code",
      "source": [],
      "metadata": {
        "id": "wVeTAx0kGAd1"
      },
      "execution_count": null,
      "outputs": []
    },
    {
      "cell_type": "code",
      "source": [],
      "metadata": {
        "id": "KQiTlEOoGAgk"
      },
      "execution_count": null,
      "outputs": []
    },
    {
      "cell_type": "code",
      "source": [],
      "metadata": {
        "id": "jH2wvePwGAjC"
      },
      "execution_count": null,
      "outputs": []
    },
    {
      "cell_type": "code",
      "source": [],
      "metadata": {
        "id": "h3XOG5B8GAlr"
      },
      "execution_count": null,
      "outputs": []
    },
    {
      "cell_type": "code",
      "source": [],
      "metadata": {
        "id": "-fi_hmq7GAoR"
      },
      "execution_count": null,
      "outputs": []
    },
    {
      "cell_type": "code",
      "source": [],
      "metadata": {
        "id": "e6z33Nn6GAq2"
      },
      "execution_count": null,
      "outputs": []
    },
    {
      "cell_type": "code",
      "source": [],
      "metadata": {
        "id": "4tvYqHprGAtt"
      },
      "execution_count": null,
      "outputs": []
    },
    {
      "cell_type": "code",
      "source": [],
      "metadata": {
        "id": "Tt-n79NCGAwN"
      },
      "execution_count": null,
      "outputs": []
    },
    {
      "cell_type": "code",
      "source": [],
      "metadata": {
        "id": "f6X4Vh3sGAyC"
      },
      "execution_count": null,
      "outputs": []
    },
    {
      "cell_type": "code",
      "source": [],
      "metadata": {
        "id": "2ByrA4SPGAzh"
      },
      "execution_count": null,
      "outputs": []
    },
    {
      "cell_type": "code",
      "source": [],
      "metadata": {
        "id": "-n1t1qhsGA3P"
      },
      "execution_count": null,
      "outputs": []
    }
  ]
}